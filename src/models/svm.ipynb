{
 "cells": [
  {
   "cell_type": "markdown",
   "metadata": {},
   "source": [
    "# Support Vector Machine"
   ]
  },
  {
   "cell_type": "code",
   "execution_count": 1,
   "metadata": {},
   "outputs": [],
   "source": [
    "import numpy as np\n",
    "import pandas as pd\n",
    "import cv2\n",
    "import matplotlib.pyplot as plt\n",
    "from sklearn.model_selection import train_test_split, GridSearchCV\n",
    "from sklearn.svm import SVC"
   ]
  },
  {
   "cell_type": "code",
   "execution_count": 2,
   "metadata": {},
   "outputs": [],
   "source": [
    "CSV_PATH = '../csv/'"
   ]
  },
  {
   "cell_type": "markdown",
   "metadata": {},
   "source": [
    "We choose a dataset with picture's size equals to (64,64)"
   ]
  },
  {
   "cell_type": "code",
   "execution_count": 3,
   "metadata": {},
   "outputs": [],
   "source": [
    "pictures = pd.read_csv(CSV_PATH + 'balanced_300_64.csv', header=None).to_numpy()\n",
    "emotions = pd.read_csv(CSV_PATH + 'labels_300.csv', header=None).to_numpy().flatten()"
   ]
  },
  {
   "cell_type": "code",
   "execution_count": 4,
   "metadata": {},
   "outputs": [
    {
     "data": {
      "text/plain": [
       "array([[ 10.,  21.,  30., ...,  53.,  56.,  67.],\n",
       "       [ 92.,  93.,  93., ..., 107., 118., 126.],\n",
       "       [ 74.,  67.,  66., ...,  92.,  81.,  78.],\n",
       "       [ 28.,  20.,  23., ..., 180., 179., 185.]])"
      ]
     },
     "execution_count": 4,
     "metadata": {},
     "output_type": "execute_result"
    }
   ],
   "source": [
    "pictures[:4]"
   ]
  },
  {
   "cell_type": "code",
   "execution_count": 5,
   "metadata": {},
   "outputs": [
    {
     "data": {
      "text/plain": [
       "array(['neutral', 'neutral', 'neutral', 'neutral'], dtype=object)"
      ]
     },
     "execution_count": 5,
     "metadata": {},
     "output_type": "execute_result"
    }
   ],
   "source": [
    "emotions[:4]"
   ]
  },
  {
   "cell_type": "markdown",
   "metadata": {},
   "source": [
    "### Splitting"
   ]
  },
  {
   "cell_type": "code",
   "execution_count": 6,
   "metadata": {},
   "outputs": [],
   "source": [
    "X_train, X_test, y_train, y_test = train_test_split(\n",
    "    pictures,\n",
    "    emotions,\n",
    "    test_size=0.3,\n",
    "    train_size=0.7,\n",
    "    random_state=0\n",
    ")"
   ]
  },
  {
   "cell_type": "code",
   "execution_count": 8,
   "metadata": {},
   "outputs": [
    {
     "name": "stdout",
     "output_type": "stream",
     "text": [
      "SVM tuned parameters: {'gamma': 'scale', 'kernel': 'rbf'}\n",
      "Accuracy on train set: 0.7763385146804835\n",
      "Accuracy on test set: 0.4869215291750503\n"
     ]
    }
   ],
   "source": [
    "svm = SVC()\n",
    "\n",
    "grid_params = {\n",
    "    'kernel': ['linear', 'poly', 'rbf', 'sigmoid'],\n",
    "    'gamma': ['scale', 'auto']\n",
    "}\n",
    "\n",
    "svm_tuned = GridSearchCV(svm, grid_params, cv=5, iid=False)\n",
    "\n",
    "svm_tuned.fit(X_train, y_train)\n",
    "\n",
    "print('SVM tuned parameters:', svm_tuned.best_params_)\n",
    "\n",
    "print('Accuracy on train set:',svm_tuned.score(X_train, y_train))\n",
    "\n",
    "print('Accuracy on test set:',svm_tuned.score(X_test, y_test))"
   ]
  },
  {
   "cell_type": "markdown",
   "metadata": {},
   "source": [
    "### Results\n",
    "\n",
    "We get poor results even if they are better than the knn ones:\n",
    "*  Train accuracy = 0.78\n",
    "*  Test accuracy = 0.49\n",
    "\n",
    "The model is overfitted since there is a big difference between the accuracies on the two sets."
   ]
  }
 ],
 "metadata": {
  "kernelspec": {
   "display_name": "Python 3",
   "language": "python",
   "name": "python3"
  },
  "language_info": {
   "codemirror_mode": {
    "name": "ipython",
    "version": 3
   },
   "file_extension": ".py",
   "mimetype": "text/x-python",
   "name": "python",
   "nbconvert_exporter": "python",
   "pygments_lexer": "ipython3",
   "version": "3.7.3"
  }
 },
 "nbformat": 4,
 "nbformat_minor": 2
}
