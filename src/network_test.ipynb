{
 "cells": [
  {
   "cell_type": "markdown",
   "metadata": {},
   "source": [
    "# Network Tests\n",
    "\n",
    "This file is to keep a track of the performance of our models on the overall dataset."
   ]
  },
  {
   "cell_type": "code",
   "execution_count": 1,
   "metadata": {},
   "outputs": [],
   "source": [
    "import torch\n",
    "import numpy as np\n",
    "import matplotlib.pyplot as plt\n",
    "from torch.utils.data import Dataset, DataLoader\n",
    "from torch.utils.data.sampler import SubsetRandomSampler\n",
    "import torch.optim as optim\n",
    "import torch.nn as nn\n",
    "from torchvision import transforms, utils\n",
    "\n",
    "# custom file\n",
    "from dataset import FaceEmotionsDataset\n",
    "from transform import Rescale, RandomCrop, ToTensor, Normalize\n",
    "from network import Net"
   ]
  },
  {
   "cell_type": "markdown",
   "metadata": {},
   "source": [
    "### Loading the data"
   ]
  },
  {
   "cell_type": "code",
   "execution_count": 2,
   "metadata": {},
   "outputs": [],
   "source": [
    "data_transform = transforms.Compose([\n",
    "    Rescale(68),\n",
    "    RandomCrop(64),\n",
    "    ToTensor()\n",
    "])\n",
    "\n",
    "emotions = ['neutral', \n",
    "            'happiness', \n",
    "            'surprise', \n",
    "            'sadness', \n",
    "            'anger', \n",
    "            'disgust',\n",
    "            'fear',\n",
    "            'contempt']\n",
    "\n",
    "dataset = FaceEmotionsDataset(csv_file='csv/balanced.csv',\n",
    "                                          root_dir='img/',\n",
    "                                          classes=emotions,\n",
    "                                          transform=data_transform)\n",
    "\n",
    "dataloader = DataLoader(dataset, batch_size=4,\n",
    "                        shuffle=True, num_workers=4)"
   ]
  },
  {
   "cell_type": "markdown",
   "metadata": {},
   "source": [
    "### Importing network v.1"
   ]
  },
  {
   "cell_type": "code",
   "execution_count": 3,
   "metadata": {},
   "outputs": [
    {
     "name": "stdout",
     "output_type": "stream",
     "text": [
      "Accuracy of the network on the 2740 test images: 29 %\n"
     ]
    }
   ],
   "source": [
    "net = Net()\n",
    "net.load_state_dict(torch.load('./models/network_v1.pth'))\n",
    "net = net.double()\n",
    "correct = 0\n",
    "total = 0\n",
    "with torch.no_grad():\n",
    "    for data in dataloader:\n",
    "        images, emotion_ids = data['image'], data['emotion']\n",
    "        outputs = net(images.double())\n",
    "        _, predicted = torch.max(outputs.data, 1)\n",
    "        total += emotion_ids.size(0)\n",
    "        correct += (predicted == emotion_ids).sum().item()\n",
    "\n",
    "print('Accuracy of the network on the 2740 test images: %d %%' % (100*correct/total))"
   ]
  },
  {
   "cell_type": "code",
   "execution_count": 4,
   "metadata": {},
   "outputs": [
    {
     "name": "stdout",
     "output_type": "stream",
     "text": [
      "Accuracy of neutral : 71 %\n",
      "Accuracy of happiness : 92 %\n",
      "Accuracy of surprise :  0 %\n",
      "Accuracy of sadness :  0 %\n",
      "Accuracy of anger :  0 %\n",
      "Accuracy of disgust :  0 %\n",
      "Accuracy of  fear :  0 %\n",
      "Accuracy of contempt :  0 %\n"
     ]
    }
   ],
   "source": [
    "class_correct = list(0. for i in range(8))\n",
    "class_total = list(0. for i in range(8))\n",
    "with torch.no_grad():\n",
    "    for data in dataloader:\n",
    "        images, emotion_ids = data['image'], data['emotion']\n",
    "        outputs = net(images.double())\n",
    "        _, predicted = torch.max(outputs, 1)\n",
    "        c = (predicted == emotion_ids).squeeze()\n",
    "        try:\n",
    "            for i in range(len(emotion_ids)):\n",
    "                emotion_id = emotion_ids[i]\n",
    "                class_correct[emotion_id] += c[i].item()\n",
    "                class_total[emotion_id] += 1\n",
    "        except:\n",
    "            emotion_id = emotion_ids[0]\n",
    "            class_correct[emotion_id] += c.item()\n",
    "            class_total[emotion_id] += 1\n",
    "\n",
    "\n",
    "for i in range(8):\n",
    "    print('Accuracy of %5s : %2d %%' % (\n",
    "        emotions[i], 100 * class_correct[i] / class_total[i]))"
   ]
  },
  {
   "cell_type": "markdown",
   "metadata": {},
   "source": [
    "### Importing network v.2"
   ]
  },
  {
   "cell_type": "code",
   "execution_count": 9,
   "metadata": {},
   "outputs": [
    {
     "name": "stdout",
     "output_type": "stream",
     "text": [
      "Accuracy of the network on the whole dataset: 74 %\n"
     ]
    }
   ],
   "source": [
    "net = Net()\n",
    "net.load_state_dict(torch.load('./models/network_v2.pth'))\n",
    "net = net.double()\n",
    "correct = 0\n",
    "total = 0\n",
    "with torch.no_grad():\n",
    "    for data in dataloader:\n",
    "        images, emotion_ids = data['image'], data['emotion']\n",
    "        outputs = net(images.double())\n",
    "        _, predicted = torch.max(outputs.data, 1)\n",
    "        total += emotion_ids.size(0)\n",
    "        correct += (predicted == emotion_ids).sum().item()\n",
    "\n",
    "print('Accuracy of the network on the whole dataset: %d %%' % (100*correct/total))"
   ]
  },
  {
   "cell_type": "code",
   "execution_count": 10,
   "metadata": {},
   "outputs": [
    {
     "name": "stdout",
     "output_type": "stream",
     "text": [
      "Accuracy of neutral : 88 %\n",
      "Accuracy of happiness : 81 %\n",
      "Accuracy of surprise : 71 %\n",
      "Accuracy of sadness : 58 %\n",
      "Accuracy of anger : 83 %\n",
      "Accuracy of disgust : 74 %\n",
      "Accuracy of  fear : 20 %\n",
      "Accuracy of contempt : 22 %\n"
     ]
    }
   ],
   "source": [
    "class_correct = list(0. for i in range(8))\n",
    "class_total = list(0. for i in range(8))\n",
    "with torch.no_grad():\n",
    "    for data in dataloader:\n",
    "        images, emotion_ids = data['image'], data['emotion']\n",
    "        outputs = net(images.double())\n",
    "        _, predicted = torch.max(outputs, 1)\n",
    "        c = (predicted == emotion_ids).squeeze()\n",
    "        try:\n",
    "            for i in range(len(emotion_ids)):\n",
    "                emotion_id = emotion_ids[i]\n",
    "                class_correct[emotion_id] += c[i].item()\n",
    "                class_total[emotion_id] += 1\n",
    "        except:\n",
    "            emotion_id = emotion_ids[0]\n",
    "            class_correct[emotion_id] += c.item()\n",
    "            class_total[emotion_id] += 1\n",
    "\n",
    "\n",
    "for i in range(8):\n",
    "    print('Accuracy of %5s : %2d %%' % (\n",
    "        emotions[i], 100 * class_correct[i] / class_total[i]))"
   ]
  }
 ],
 "metadata": {
  "kernelspec": {
   "display_name": "Python 3",
   "language": "python",
   "name": "python3"
  },
  "language_info": {
   "codemirror_mode": {
    "name": "ipython",
    "version": 3
   },
   "file_extension": ".py",
   "mimetype": "text/x-python",
   "name": "python",
   "nbconvert_exporter": "python",
   "pygments_lexer": "ipython3",
   "version": "3.7.3"
  }
 },
 "nbformat": 4,
 "nbformat_minor": 2
}
